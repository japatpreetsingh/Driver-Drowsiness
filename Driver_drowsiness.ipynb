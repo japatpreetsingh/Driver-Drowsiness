{
  "cells": [
    {
      "cell_type": "markdown",
      "metadata": {
        "id": "qqU5Lp0F1sbX"
      },
      "source": [
        "## Importing Libraries"
      ]
    },
    {
      "cell_type": "markdown",
      "metadata": {
        "id": "CqiVpCnU10Wt"
      },
      "source": [
        "### Data Visualisation and Preprocessing\n"
      ]
    },
    {
      "cell_type": "code",
      "execution_count": null,
      "metadata": {
        "id": "d-eJO11XxiV8"
      },
      "outputs": [],
      "source": [
        "import numpy as np\n",
        "import pandas as pd\n",
        "from google.colab import drive\n",
        "import seaborn as sns\n",
        "import os\n",
        "import matplotlib.pyplot as plt\n",
        "import matplotlib.gridspec as gridspec\n",
        "%matplotlib inline\n",
        "\n",
        "import sklearn\n",
        "from sklearn.model_selection import train_test_split\n",
        "from sklearn.metrics import confusion_matrix, accuracy_score\n",
        "from sklearn.utils import class_weight\n",
        "from sklearn import model_selection\n",
        "from sklearn.model_selection import train_test_split, learning_curve,KFold,cross_val_score,StratifiedKFold\n",
        "from sklearn.utils import class_weight\n",
        "from sklearn.metrics import confusion_matrix\n",
        "\n",
        "from imblearn.over_sampling import RandomOverSampler\n",
        "from imblearn.under_sampling import RandomUnderSampler\n",
        "import warnings\n",
        "warnings.filterwarnings(\"ignore\")"
      ]
    },
    {
      "cell_type": "markdown",
      "metadata": {
        "id": "vuNiMr712KYE"
      },
      "source": [
        "### Image Processing"
      ]
    },
    {
      "cell_type": "code",
      "execution_count": null,
      "metadata": {
        "id": "MiZaFm362Mxo"
      },
      "outputs": [],
      "source": [
        "import cv2"
      ]
    },
    {
      "cell_type": "markdown",
      "metadata": {
        "id": "n7wZeiBv2OD0"
      },
      "source": [
        "### Tensorflow and Keras"
      ]
    },
    {
      "cell_type": "code",
      "execution_count": null,
      "metadata": {
        "id": "CP3i12bl2Yaq"
      },
      "outputs": [],
      "source": [
        "import tensorflow as tf\n",
        "from tensorflow import keras\n",
        "from tensorflow.keras import layers,losses\n",
        "from tensorflow.keras.layers import BatchNormalization\n",
        "from tensorflow.keras.models import Sequential\n",
        "from tensorflow.keras.layers import Conv2D, MaxPool2D, AveragePooling2D ,Dense , Flatten , Dropout, GlobalAveragePooling2D\n",
        "from tensorflow.keras.losses import CategoricalCrossentropy , BinaryCrossentropy\n",
        "from tensorflow.keras.metrics import Recall ,Precision,Accuracy\n",
        "from tensorflow.keras.optimizers import Adam\n",
        "from sklearn.metrics import balanced_accuracy_score , classification_report , mean_squared_error\n",
        "from tensorflow.keras.preprocessing import image\n",
        "from tensorflow.keras.preprocessing.image import ImageDataGenerator\n",
        "from tensorflow.keras import layers as layers\n",
        "from tensorflow.keras.utils import to_categorical\n",
        "from tensorflow.keras import models, layers, optimizers\n",
        "from keras.optimizers import SGD, RMSprop, Adam, Adagrad, Adadelta, RMSprop\n",
        "from keras import backend as K\n",
        "from keras.applications.vgg16 import VGG16\n",
        "from keras.models import Model"
      ]
    },
    {
      "cell_type": "markdown",
      "metadata": {
        "id": "iryCkIW02lW-"
      },
      "source": [
        "## Importing the Dataset"
      ]
    },
    {
      "cell_type": "code",
      "execution_count": null,
      "metadata": {
        "colab": {
          "base_uri": "https://localhost:8080/"
        },
        "id": "a9dCZE9v2aED",
        "outputId": "3f301add-e91c-4b26-8fd5-6d5497612acc"
      },
      "outputs": [
        {
          "name": "stdout",
          "output_type": "stream",
          "text": [
            "Mounted at /content/drive\n"
          ]
        }
      ],
      "source": [
        "drive.mount('/content/drive', force_remount=True)\n",
        "path = '/content/drive/MyDrive/Driver Drowsiness Dataset (DDD)'\n",
        "#path_drowsy = '/content/drive/MyDrive/Driver Drowsiness Dataset (DDD)/Drowsy'\n",
        "#path_non_drowsy = '/content/drive/MyDrive/Driver Drowsiness Dataset (DDD)/Non Drowsy'\n",
        "dirs=os.listdir(path)\n",
        "#dirs1=os.listdir(path_drowsy)\n",
        "#dirs2=os.listdir(path_non_drowsy)\n",
        "os.chdir(path)"
      ]
    },
    {
      "cell_type": "code",
      "execution_count": null,
      "metadata": {
        "colab": {
          "background_save": true,
          "base_uri": "https://localhost:8080/"
        },
        "id": "OPZOErH4H_q6",
        "outputId": "01a8dbc5-addf-4b72-acf8-7ca7f084b8ae"
      },
      "outputs": [
        {
          "name": "stderr",
          "output_type": "stream",
          "text": [
            "100%|██████████| 22348/22348 [16:11<00:00, 23.00it/s]\n",
            "100%|██████████| 19455/19455 [14:54<00:00, 21.74it/s]\n"
          ]
        }
      ],
      "source": [
        "import skimage\n",
        "from skimage.transform import resize\n",
        "from tqdm import tqdm\n",
        "def get_data(folder):\n",
        "    X = []\n",
        "    y = []\n",
        "    for folderName in dirs:\n",
        "        if not folderName.startswith('.'):\n",
        "            if folderName in ['Drowsy']:\n",
        "                label = 0\n",
        "            elif folderName in ['Non Drowsy']:\n",
        "                label = 1\n",
        "            for image_filename in tqdm(os.listdir(folder +'/'+ folderName)):\n",
        "                img_file = cv2.imread(folder +'/'+ folderName + '/' + image_filename)\n",
        "                if img_file is not None:\n",
        "                    img_file = skimage.transform.resize(img_file, (50, 50, 3))\n",
        "                    img_arr = np.asarray(img_file)\n",
        "                    X.append(img_arr)\n",
        "                    y.append(label)\n",
        "    X = np.asarray(X)\n",
        "    y = np.asarray(y)\n",
        "    return X,y\n",
        "X_train, y_train = get_data(path)"
      ]
    },
    {
      "cell_type": "code",
      "execution_count": null,
      "metadata": {
        "colab": {
          "background_save": true
        },
        "id": "nNVjGJSxI9CY",
        "outputId": "be6c74bd-ad64-4790-a3c4-643535a5d8be"
      },
      "outputs": [
        {
          "data": {
            "text/plain": [
              "8"
            ]
          },
          "execution_count": 8,
          "metadata": {},
          "output_type": "execute_result"
        }
      ],
      "source": [
        "import sys\n",
        "import gc\n",
        "gc.collect()"
      ]
    },
    {
      "cell_type": "markdown",
      "metadata": {
        "id": "xWjoTU0XRZET"
      },
      "source": [
        "## Data Preprocessing"
      ]
    },
    {
      "cell_type": "code",
      "execution_count": null,
      "metadata": {
        "colab": {
          "background_save": true
        },
        "id": "NzaruD12RbXC"
      },
      "outputs": [],
      "source": [
        "from sklearn.model_selection import train_test_split\n",
        "X_train, X_test, y_train, y_test = train_test_split(X_train, y_train, test_size=0.2,random_state=42)"
      ]
    },
    {
      "cell_type": "code",
      "execution_count": null,
      "metadata": {
        "colab": {
          "background_save": true
        },
        "id": "_DvNOyPg5Mt1",
        "outputId": "0da215a5-d730-4807-b18b-dc48f9746feb"
      },
      "outputs": [
        {
          "name": "stdout",
          "output_type": "stream",
          "text": [
            "The shape of X_train is :  (33442, 50, 50, 3)\n",
            "The shape of y_train is :  (33442,)\n"
          ]
        }
      ],
      "source": [
        "print(\"The shape of X_train is : \", X_train.shape)\n",
        "print(\"The shape of y_train is : \", y_train.shape)"
      ]
    },
    {
      "cell_type": "code",
      "execution_count": null,
      "metadata": {
        "colab": {
          "background_save": true
        },
        "id": "eKchNwBS5Pej",
        "outputId": "41705232-516f-4476-dbf6-1bbf4fbf7511"
      },
      "outputs": [
        {
          "name": "stdout",
          "output_type": "stream",
          "text": [
            "The shape of one image is :  (50, 50, 3)\n"
          ]
        }
      ],
      "source": [
        "print(\"The shape of one image is : \", X_train[0].shape)"
      ]
    },
    {
      "cell_type": "code",
      "execution_count": null,
      "metadata": {
        "colab": {
          "background_save": true
        },
        "id": "SSQ1KiQ1RdAq"
      },
      "outputs": [],
      "source": [
        "y_trainHot = to_categorical(y_train, num_classes = 2)\n",
        "y_testHot = to_categorical(y_test, num_classes = 2)"
      ]
    },
    {
      "cell_type": "code",
      "execution_count": null,
      "metadata": {
        "colab": {
          "background_save": true
        },
        "id": "4aiPymJxRh5M",
        "outputId": "18a75e5c-066e-406c-9200-cb0a66a7a9bf"
      },
      "outputs": [
        {
          "name": "stdout",
          "output_type": "stream",
          "text": [
            "(8361, 50, 50, 3)\n",
            "(8361,)\n",
            "(33442, 2)\n",
            "(8361, 2)\n"
          ]
        }
      ],
      "source": [
        "print(X_test.shape)\n",
        "print(y_test.shape)\n",
        "print(y_trainHot.shape)\n",
        "print(y_testHot.shape)"
      ]
    },
    {
      "cell_type": "code",
      "execution_count": null,
      "metadata": {
        "colab": {
          "background_save": true
        },
        "id": "tC9uynXnSGp0"
      },
      "outputs": [],
      "source": [
        "from sklearn.utils import shuffle\n",
        "X_train, y_trainHot = shuffle(X_train, y_trainHot, random_state=13)\n",
        "X_test, y_testHot = shuffle(X_test, y_testHot, random_state=13)\n",
        "X_train = X_train[:30000]\n",
        "X_test = X_test[:30000]\n",
        "y_trainHot = y_trainHot[:30000]\n",
        "y_testHot = y_testHot[:30000]"
      ]
    },
    {
      "cell_type": "code",
      "execution_count": null,
      "metadata": {
        "colab": {
          "background_save": true
        },
        "id": "qFK4ROXsSLFF"
      },
      "outputs": [],
      "source": [
        "map_characters = {0: 'Drowsy', 1: 'Non Drowsy' }"
      ]
    },
    {
      "cell_type": "markdown",
      "metadata": {
        "id": "2mivJkCkSa9A"
      },
      "source": [
        "## Visualisation of Data"
      ]
    },
    {
      "cell_type": "markdown",
      "metadata": {
        "id": "7y1y07z6SeC0"
      },
      "source": [
        "### Histogram"
      ]
    },
    {
      "cell_type": "code",
      "execution_count": null,
      "metadata": {
        "id": "FTB1TgT4SgjJ"
      },
      "outputs": [],
      "source": [
        "def plotHistogram(a):\n",
        "\n",
        "    plt.figure(figsize=(10,5))\n",
        "    plt.subplot(1,2,1)\n",
        "    plt.imshow(a)\n",
        "    plt.axis('off')\n",
        "    histo = plt.subplot(1,2,2)\n",
        "    histo.set_ylabel('Count')\n",
        "    histo.set_xlabel('Pixel Intensity')\n",
        "    n_bins = 30\n",
        "    plt.hist(a[:,:,0].flatten(), bins= n_bins, lw = 0, color='r', alpha=0.5);\n",
        "    plt.hist(a[:,:,1].flatten(), bins= n_bins, lw = 0, color='g', alpha=0.5);\n",
        "    plt.hist(a[:,:,2].flatten(), bins= n_bins, lw = 0, color='b', alpha=0.5);\n",
        "plotHistogram(X_train[1])"
      ]
    },
    {
      "cell_type": "markdown",
      "metadata": {
        "id": "uy01VXB4SoML"
      },
      "source": [
        "### Observations in each category"
      ]
    },
    {
      "cell_type": "code",
      "execution_count": null,
      "metadata": {
        "id": "FxOa6MimSsUm"
      },
      "outputs": [],
      "source": [
        "dict_characters=map_characters\n",
        "import seaborn as sns\n",
        "df = pd.DataFrame()\n",
        "df[\"labels\"]=y_train\n",
        "lab = df['labels']\n",
        "dist = lab.value_counts()\n",
        "sns.countplot(lab)\n",
        "print(dict_characters)"
      ]
    },
    {
      "cell_type": "code",
      "execution_count": null,
      "metadata": {
        "id": "0IN_hiSGWPug"
      },
      "outputs": [],
      "source": [
        "import matplotlib.colors\n",
        "plt.figure(figsize=(15,15))\n",
        "sns.heatmap(lab[:, np.newaxis], cmap=matplotlib.colors.ListedColormap(['green', 'yellow', 'red']))"
      ]
    },
    {
      "cell_type": "code",
      "execution_count": null,
      "metadata": {
        "id": "fahHCgozUx8E"
      },
      "outputs": [],
      "source": [
        "import sys\n",
        "import gc\n",
        "gc.collect()"
      ]
    },
    {
      "cell_type": "markdown",
      "metadata": {
        "id": "Mb03aadqrVcE"
      },
      "source": [
        "## Helper Functions"
      ]
    },
    {
      "cell_type": "code",
      "execution_count": null,
      "metadata": {
        "colab": {
          "background_save": true
        },
        "id": "X8kRG4surYy0"
      },
      "outputs": [],
      "source": [
        "from keras.callbacks import Callback, EarlyStopping, ReduceLROnPlateau, ModelCheckpoint"
      ]
    },
    {
      "cell_type": "markdown",
      "metadata": {
        "id": "_JkscAY8reCJ"
      },
      "source": [
        "### Callback"
      ]
    },
    {
      "cell_type": "code",
      "execution_count": null,
      "metadata": {
        "colab": {
          "background_save": true
        },
        "id": "acq9vyIIraPf"
      },
      "outputs": [],
      "source": [
        "class MetricsCheckpoint(Callback):\n",
        "    def __init__(self, savepath):\n",
        "        super(MetricsCheckpoint, self).__init__()\n",
        "        self.savepath = savepath\n",
        "        self.history = {}\n",
        "    def on_epoch_end(self, epoch, logs=None):\n",
        "        for k, v in logs.items():\n",
        "            self.history.setdefault(k, []).append(v)\n",
        "        np.save(self.savepath, self.history)"
      ]
    },
    {
      "cell_type": "markdown",
      "metadata": {
        "id": "kW1QnEMzrhDQ"
      },
      "source": [
        "### Keras learning Curve"
      ]
    },
    {
      "cell_type": "code",
      "execution_count": null,
      "metadata": {
        "colab": {
          "background_save": true
        },
        "id": "4rxVjHOhrhhh"
      },
      "outputs": [],
      "source": [
        "def plotKerasLearningCurve():\n",
        "    plt.figure(figsize=(10,5))\n",
        "    metrics = np.load('logs.npy',allow_pickle=True)[()]\n",
        "    filt = ['accuracy'] # try to add 'loss' to see the loss learning curve\n",
        "    for k in filter(lambda x : np.any([kk in x for kk in filt]), metrics.keys()):\n",
        "        l = np.array(metrics[k])\n",
        "        plt.plot(l, c= 'r' if 'val' not in k else 'b', label='val' if 'val' in k else 'train')\n",
        "        x = np.argmin(l) if 'loss' in k else np.argmax(l)\n",
        "        y = l[x]\n",
        "        plt.scatter(x,y, lw=0, alpha=0.25, s=100, c='r' if 'val' not in k else 'b')\n",
        "        plt.text(x, y, '{} = {:.4f}'.format(x,y), size='15', color= 'r' if 'val' not in k else 'b')\n",
        "    plt.legend(loc=4)\n",
        "    plt.axis([0, None, None, None]);\n",
        "    plt.grid()\n",
        "    plt.xlabel('Number of epochs')\n",
        "    plt.ylabel('Accuracy')"
      ]
    },
    {
      "cell_type": "markdown",
      "metadata": {
        "id": "hKOEiRzBrpUO"
      },
      "source": [
        "### Confusion matrix"
      ]
    },
    {
      "cell_type": "code",
      "execution_count": null,
      "metadata": {
        "colab": {
          "background_save": true
        },
        "id": "0jYxts7wruwe"
      },
      "outputs": [],
      "source": [
        "import itertools\n",
        "def plot_confusion_matrix(cm, classes,\n",
        "                          normalize=False,\n",
        "                          title='Confusion matrix',\n",
        "                          cmap=plt.cm.Blues):\n",
        "   #Normalization can be applied by setting `normalize=True`.\n",
        "    plt.figure(figsize = (8,8))\n",
        "    plt.imshow(cm, interpolation='nearest', cmap=cmap)\n",
        "    plt.title(title)\n",
        "    plt.colorbar()\n",
        "    tick_marks = np.arange(len(classes))\n",
        "    plt.xticks(tick_marks, classes, rotation=90)\n",
        "    plt.yticks(tick_marks, classes)\n",
        "    if normalize:\n",
        "        cm = cm.astype('float') / cm.sum(axis=1)[:, np.newaxis]\n",
        "\n",
        "    thresh = cm.max() / 2.\n",
        "    for i, j in itertools.product(range(cm.shape[0]), range(cm.shape[1])):\n",
        "        plt.text(j, i, cm[i, j],\n",
        "                 horizontalalignment=\"center\",\n",
        "                 color=\"white\" if cm[i, j] > thresh else \"black\")\n",
        "    plt.tight_layout()\n",
        "    plt.ylabel('True label')\n",
        "    plt.xlabel('Predicted label')"
      ]
    },
    {
      "cell_type": "markdown",
      "metadata": {
        "id": "n6-Qs-pRrwoR"
      },
      "source": [
        "### Accuaracy and loss curves"
      ]
    },
    {
      "cell_type": "code",
      "execution_count": null,
      "metadata": {
        "colab": {
          "background_save": true
        },
        "id": "3JrK41Fcr1Qy"
      },
      "outputs": [],
      "source": [
        "def plot_learning_curve(history):\n",
        "    plt.figure(figsize=(8,8))\n",
        "    plt.subplot(1,2,1)\n",
        "    plt.plot(history.history['accuracy'])\n",
        "    plt.plot(history.history['val_accuracy'])\n",
        "    plt.title('model accuracy')\n",
        "    plt.ylabel('accuracy')\n",
        "    plt.xlabel('epoch')\n",
        "    plt.legend(['train', 'test'], loc='upper left')\n",
        "    plt.savefig('./accuracy_curve.png')\n",
        "    plt.subplot(1,2,2)\n",
        "    plt.plot(history.history['loss'])\n",
        "    plt.plot(history.history['val_loss'])\n",
        "    plt.title('model loss')\n",
        "    plt.ylabel('loss')\n",
        "    plt.xlabel('epoch')\n",
        "    plt.legend(['train', 'test'], loc='upper left')\n",
        "    plt.savefig('./loss_curve.png')"
      ]
    },
    {
      "cell_type": "code",
      "execution_count": null,
      "metadata": {
        "colab": {
          "background_save": true
        },
        "id": "8WkTDvpBCR82"
      },
      "outputs": [],
      "source": []
    },
    {
      "cell_type": "markdown",
      "metadata": {
        "id": "KMvNxiSdr5RM"
      },
      "source": [
        "## Model"
      ]
    },
    {
      "cell_type": "code",
      "execution_count": null,
      "metadata": {
        "colab": {
          "background_save": true
        },
        "id": "qk4jfBTXqs2P"
      },
      "outputs": [],
      "source": [
        "class_weights = class_weight.compute_class_weight(class_weight = \"balanced\",classes = np.unique(y_train),y=y_train )\n",
        "class_weights = dict(zip(np.unique(y_train), class_weights))"
      ]
    },
    {
      "cell_type": "code",
      "execution_count": null,
      "metadata": {
        "colab": {
          "background_save": true
        },
        "id": "U_wVrovAq3Xf"
      },
      "outputs": [],
      "source": [
        "weight_path1 = '/content/drive/MyDrive/vgg16_weights_tf_dim_ordering_tf_kernels_notop.h5'"
      ]
    },
    {
      "cell_type": "code",
      "execution_count": null,
      "metadata": {
        "colab": {
          "background_save": true
        },
        "id": "8d_b_4k5q9GC"
      },
      "outputs": [],
      "source": [
        "def pretrainedNetwork(xtrain,ytrain,xtest,ytest,pretrainedmodel,pretrainedweights,classweight,numclasses,num_epochs,optimizer,labels):\n",
        "    base_model = pretrainedmodel # Topless\n",
        "    # Add top layer\n",
        "    x = base_model.output\n",
        "    x = Flatten()(x)\n",
        "    predictions = Dense(numclasses, activation='softmax')(x)\n",
        "    model = Model(inputs=base_model.input, outputs=predictions)\n",
        "    # Train top layer\n",
        "    for layer in base_model.layers:\n",
        "        layer.trainable = False\n",
        "    model.compile(loss='categorical_crossentropy',\n",
        "                  optimizer=optimizer,\n",
        "                  metrics=['accuracy'])\n",
        "    callbacks_list = [keras.callbacks.EarlyStopping(monitor='val_accuracy', patience=3, verbose=1)]\n",
        "    model.summary()\n",
        "    history = model.fit(xtrain,ytrain, epochs=num_epochs, class_weight=classweight, validation_data=(xtest,ytest), verbose=1,callbacks = [MetricsCheckpoint('logs')])\n",
        "    score = model.evaluate(xtest,ytest, verbose=1)\n",
        "    print('\\nAccuracy:', score[1]*100, ' %\\n')\n",
        "    y_pred = model.predict(xtest)\n",
        "    print('\\n',sklearn.metrics.classification_report(np.where(ytest > 0)[1], np.argmax(y_pred, axis=1), target_names=list(labels.values())), sep='')\n",
        "    # print('\\n',sklearn.metrics.classification_report(np.argmax(y_pred, axis=1)))\n",
        "\n",
        "    Y_pred_classes = np.argmax(y_pred,axis = 1)\n",
        "    Y_true = np.argmax(ytest,axis = 1)\n",
        "    confusion_mtx = confusion_matrix(Y_true, Y_pred_classes)\n",
        "    plotKerasLearningCurve()\n",
        "    plt.show()\n",
        "    plot_learning_curve(history)\n",
        "    plt.show()\n",
        "    plot_confusion_matrix(confusion_mtx, classes = list(labels.values()))\n",
        "    plt.show()\n",
        "    return model"
      ]
    },
    {
      "cell_type": "code",
      "execution_count": null,
      "metadata": {
        "colab": {
          "background_save": true
        },
        "id": "Drp_dhNxsGVg"
      },
      "outputs": [],
      "source": [
        "model_1 = VGG16(weights = weight_path1, include_top=False, input_shape=(50,50, 3))"
      ]
    },
    {
      "cell_type": "code",
      "execution_count": null,
      "metadata": {
        "colab": {
          "background_save": true
        },
        "id": "FAUU5HgDrGBh"
      },
      "outputs": [],
      "source": [
        "optimizer1 = keras.optimizers.Adam()\n",
        "optimizer2 = keras.optimizers.RMSprop(learning_rate=0.0001)\n",
        "#optimizer3=keras.optimizers.AdaBelief(learning_rate=0.001)"
      ]
    },
    {
      "cell_type": "markdown",
      "metadata": {
        "id": "pUnSraLIrHWD"
      },
      "source": []
    },
    {
      "cell_type": "code",
      "execution_count": null,
      "metadata": {
        "colab": {
          "base_uri": "https://localhost:8080/",
          "height": 1000
        },
        "id": "q4EtYvvjrHqR",
        "outputId": "a3c327d0-9629-448c-d741-7e2374d8fe76"
      },
      "outputs": [
        {
          "output_type": "stream",
          "name": "stdout",
          "text": [
            "Model: \"model\"\n",
            "_________________________________________________________________\n",
            " Layer (type)                Output Shape              Param #   \n",
            "=================================================================\n",
            " input_1 (InputLayer)        [(None, 50, 50, 3)]       0         \n",
            "                                                                 \n",
            " block1_conv1 (Conv2D)       (None, 50, 50, 64)        1792      \n",
            "                                                                 \n",
            " block1_conv2 (Conv2D)       (None, 50, 50, 64)        36928     \n",
            "                                                                 \n",
            " block1_pool (MaxPooling2D)  (None, 25, 25, 64)        0         \n",
            "                                                                 \n",
            " block2_conv1 (Conv2D)       (None, 25, 25, 128)       73856     \n",
            "                                                                 \n",
            " block2_conv2 (Conv2D)       (None, 25, 25, 128)       147584    \n",
            "                                                                 \n",
            " block2_pool (MaxPooling2D)  (None, 12, 12, 128)       0         \n",
            "                                                                 \n",
            " block3_conv1 (Conv2D)       (None, 12, 12, 256)       295168    \n",
            "                                                                 \n",
            " block3_conv2 (Conv2D)       (None, 12, 12, 256)       590080    \n",
            "                                                                 \n",
            " block3_conv3 (Conv2D)       (None, 12, 12, 256)       590080    \n",
            "                                                                 \n",
            " block3_pool (MaxPooling2D)  (None, 6, 6, 256)         0         \n",
            "                                                                 \n",
            " block4_conv1 (Conv2D)       (None, 6, 6, 512)         1180160   \n",
            "                                                                 \n",
            " block4_conv2 (Conv2D)       (None, 6, 6, 512)         2359808   \n",
            "                                                                 \n",
            " block4_conv3 (Conv2D)       (None, 6, 6, 512)         2359808   \n",
            "                                                                 \n",
            " block4_pool (MaxPooling2D)  (None, 3, 3, 512)         0         \n",
            "                                                                 \n",
            " block5_conv1 (Conv2D)       (None, 3, 3, 512)         2359808   \n",
            "                                                                 \n",
            " block5_conv2 (Conv2D)       (None, 3, 3, 512)         2359808   \n",
            "                                                                 \n",
            " block5_conv3 (Conv2D)       (None, 3, 3, 512)         2359808   \n",
            "                                                                 \n",
            " block5_pool (MaxPooling2D)  (None, 1, 1, 512)         0         \n",
            "                                                                 \n",
            " flatten (Flatten)           (None, 512)               0         \n",
            "                                                                 \n",
            " dense (Dense)               (None, 2)                 1026      \n",
            "                                                                 \n",
            "=================================================================\n",
            "Total params: 14715714 (56.14 MB)\n",
            "Trainable params: 1026 (4.01 KB)\n",
            "Non-trainable params: 14714688 (56.13 MB)\n",
            "_________________________________________________________________\n",
            "Epoch 1/15\n",
            "938/938 [==============================] - 1099s 1s/step - loss: 0.3657 - accuracy: 0.8838 - val_loss: 0.2217 - val_accuracy: 0.9618\n",
            "Epoch 2/15\n",
            "938/938 [==============================] - 1090s 1s/step - loss: 0.1727 - accuracy: 0.9713 - val_loss: 0.1334 - val_accuracy: 0.9792\n",
            "Epoch 3/15\n",
            "938/938 [==============================] - 1094s 1s/step - loss: 0.1121 - accuracy: 0.9825 - val_loss: 0.0937 - val_accuracy: 0.9837\n",
            "Epoch 4/15\n",
            "938/938 [==============================] - 1089s 1s/step - loss: 0.0811 - accuracy: 0.9867 - val_loss: 0.0710 - val_accuracy: 0.9894\n",
            "Epoch 5/15\n",
            "938/938 [==============================] - 1054s 1s/step - loss: 0.0625 - accuracy: 0.9902 - val_loss: 0.0558 - val_accuracy: 0.9914\n",
            "Epoch 6/15\n",
            "938/938 [==============================] - 1060s 1s/step - loss: 0.0504 - accuracy: 0.9918 - val_loss: 0.0455 - val_accuracy: 0.9935\n",
            "Epoch 7/15\n",
            "938/938 [==============================] - 1132s 1s/step - loss: 0.0418 - accuracy: 0.9932 - val_loss: 0.0403 - val_accuracy: 0.9933\n",
            "Epoch 8/15\n",
            "938/938 [==============================] - 1092s 1s/step - loss: 0.0357 - accuracy: 0.9940 - val_loss: 0.0334 - val_accuracy: 0.9950\n",
            "Epoch 9/15\n",
            "938/938 [==============================] - 1091s 1s/step - loss: 0.0311 - accuracy: 0.9945 - val_loss: 0.0296 - val_accuracy: 0.9955\n",
            "Epoch 10/15\n",
            "938/938 [==============================] - 1102s 1s/step - loss: 0.0276 - accuracy: 0.9953 - val_loss: 0.0263 - val_accuracy: 0.9953\n",
            "Epoch 11/15\n",
            "938/938 [==============================] - 1139s 1s/step - loss: 0.0249 - accuracy: 0.9955 - val_loss: 0.0242 - val_accuracy: 0.9955\n",
            "Epoch 12/15\n",
            "938/938 [==============================] - 1283s 1s/step - loss: 0.0227 - accuracy: 0.9960 - val_loss: 0.0222 - val_accuracy: 0.9962\n",
            "Epoch 13/15\n",
            "938/938 [==============================] - 1160s 1s/step - loss: 0.0209 - accuracy: 0.9963 - val_loss: 0.0212 - val_accuracy: 0.9957\n",
            "Epoch 14/15\n",
            "938/938 [==============================] - 1056s 1s/step - loss: 0.0193 - accuracy: 0.9967 - val_loss: 0.0191 - val_accuracy: 0.9961\n",
            "Epoch 15/15\n",
            "938/938 [==============================] - 1048s 1s/step - loss: 0.0180 - accuracy: 0.9966 - val_loss: 0.0179 - val_accuracy: 0.9967\n",
            "262/262 [==============================] - 230s 877ms/step - loss: 0.0179 - accuracy: 0.9967\n",
            "\n",
            "Accuracy: 99.66511130332947  %\n",
            "\n",
            "262/262 [==============================] - 230s 875ms/step\n",
            "\n",
            "              precision    recall  f1-score   support\n",
            "\n",
            "      Drowsy       1.00      1.00      1.00      4497\n",
            "  Non Drowsy       1.00      1.00      1.00      3864\n",
            "\n",
            "    accuracy                           1.00      8361\n",
            "   macro avg       1.00      1.00      1.00      8361\n",
            "weighted avg       1.00      1.00      1.00      8361\n",
            "\n"
          ]
        },
        {
          "output_type": "display_data",
          "data": {
            "text/plain": [
              "<Figure size 1000x500 with 1 Axes>"
            ],
            "image/png": "[encoded data removed]"
          },
          "metadata": {}
        },
        {
          "output_type": "display_data",
          "data": {
            "text/plain": [
              "<Figure size 800x800 with 2 Axes>"
            ],
            "image/png": "[encoded data removed]"
          },
          "metadata": {}
        },
        {
          "output_type": "display_data",
          "data": {
            "text/plain": [
              "<Figure size 800x800 with 2 Axes>"
            ],
            "image/png": "[encoded data removed]"
          },
          "metadata": {}
        },
        {
          "output_type": "execute_result",
          "data": {
            "text/plain": [
              "<keras.src.engine.functional.Functional at 0x79fa48d534c0>"
            ]
          },
          "metadata": {},
          "execution_count": 26
        }
      ],
      "source": [
        "pretrainedNetwork(X_train, y_trainHot, X_test, y_testHot,model_1,weight_path1,class_weights,2,15,optimizer1,map_characters)"
      ]
    },
    {
      "cell_type": "code",
      "execution_count": null,
      "metadata": {
        "id": "JkOn1cZfiKxR",
        "colab": {
          "base_uri": "https://localhost:8080/"
        },
        "outputId": "b9d91852-a9e7-4d4b-e36a-1619af633166"
      },
      "outputs": [
        {
          "output_type": "execute_result",
          "data": {
            "text/plain": [
              "17914"
            ]
          },
          "metadata": {},
          "execution_count": 27
        }
      ],
      "source": [
        "gc.collect()"
      ]
    }
  ],
  "metadata": {
    "colab": {
      "provenance": []
    },
    "kernelspec": {
      "display_name": "Python 3",
      "name": "python3"
    },
    "language_info": {
      "name": "python"
    }
  },
  "nbformat": 4,
  "nbformat_minor": 0
}